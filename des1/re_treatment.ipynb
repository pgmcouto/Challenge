{
 "cells": [
  {
   "cell_type": "markdown",
   "metadata": {},
   "source": [
    "# Prototype"
   ]
  },
  {
   "cell_type": "code",
   "execution_count": null,
   "metadata": {},
   "outputs": [],
   "source": [
    "import re\n",
    "import json"
   ]
  },
  {
   "cell_type": "code",
   "execution_count": null,
   "metadata": {
    "scrolled": true
   },
   "outputs": [],
   "source": [
    "data = []\n",
    "with open('planilha.txt', 'r') as f:\n",
    "    next(f)\n",
    "    for line in f:\n",
    "        match = re.search(r'([\\w\\s:.-]+)\\s+([\\d-]+)\\s+([\\S.]+)\\s+([\\D]+)\\s+([\\d]+)', line)\n",
    "              \n",
    "#         print(f'\\n\\nName: {match.group(1).lstrip().rstrip()} \\nDate: {match.group(2).replace(\"-\",\"/\").lstrip().rstrip()} \\nPath: {match.group(3).lstrip().rstrip()} \\nSize: {match.group(5).lstrip().rstrip()}')\n",
    "        \n",
    "        data.append({'Name': match.group(1).lstrip().rstrip(), 'Path': match.group(3).lstrip().rstrip(), 'Date': match.group(2).replace(\"-\",\"/\").lstrip().rstrip(), 'Size': str(round(int(match.group(5).lstrip().rstrip())/10**9,1))+' GB'})\n",
    "        \n",
    "print(data)"
   ]
  },
  {
   "cell_type": "code",
   "execution_count": null,
   "metadata": {},
   "outputs": [],
   "source": [
    "with open('test_file.json', 'w+') as file:\n",
    "    json.dump(data, file, indent=4)"
   ]
  },
  {
   "cell_type": "code",
   "execution_count": null,
   "metadata": {},
   "outputs": [],
   "source": [
    "with open('test_file.json', 'r') as j:\n",
    "    json_data = json.load(j)\n",
    "    print(json_data[11]['Size'])"
   ]
  },
  {
   "cell_type": "markdown",
   "metadata": {},
   "source": [
    "# Working function"
   ]
  },
  {
   "cell_type": "code",
   "execution_count": null,
   "metadata": {},
   "outputs": [],
   "source": [
    "import re\n",
    "import json\n",
    "\n",
    "data = []\n",
    "\n",
    "with open('planilha.txt', 'r') as f:\n",
    "    \n",
    "    next(f)\n",
    "    for line in f:\n",
    "        \n",
    "        match = re.search(r'([\\w\\s:.-]+)\\s+([\\d-]+)\\s+([\\S.]+)\\s+([\\D]+)\\s+([\\d]+)', line)\n",
    "        data.append({'Name': match.group(1).lstrip().rstrip(), \n",
    "                     'Path': match.group(3).lstrip().rstrip(), \n",
    "                     'Date': match.group(2).replace(\"-\",\"/\").lstrip().rstrip(), \n",
    "                     'Size': str(round(int(match.group(5).lstrip().rstrip())/10**9,1))+' GB'}\n",
    "                   )\n",
    "        \n",
    "with open('movies.json', 'w+') as file:\n",
    "    json.dump(data, file, indent=4)"
   ]
  },
  {
   "cell_type": "code",
   "execution_count": 3,
   "metadata": {},
   "outputs": [],
   "source": [
    "import re\n",
    "import json\n",
    "\n",
    "def get_info(line):\n",
    "    match = re.search(r'([\\w\\s:.-]+)\\s+([\\d-]+)\\s+([\\S.]+)\\s+([\\D]+)\\s+([\\d]+)', line)\n",
    "    data = {'Name': match.group(1).lstrip().rstrip(), \n",
    "                'Path': match.group(3).lstrip().rstrip(), \n",
    "                'Date': match.group(2).replace(\"-\",\"/\").lstrip().rstrip(), \n",
    "                'Size': str(round(int(match.group(5).lstrip().rstrip())/10**9,1))+' GB'\n",
    "            }\n",
    "    return data\n",
    "            \n",
    "with open('planilha.txt', 'r') as f:\n",
    "    next(f)\n",
    "    content = f.readlines()\n",
    "    content = [get_info(x) for x in content]\n",
    "\n",
    "with open('movies_2.json', 'w+') as file:\n",
    "    json.dump(content, file, indent=4)"
   ]
  },
  {
   "cell_type": "code",
   "execution_count": null,
   "metadata": {},
   "outputs": [],
   "source": []
  }
 ],
 "metadata": {
  "kernelspec": {
   "display_name": "Python 3",
   "language": "python",
   "name": "python3"
  },
  "language_info": {
   "codemirror_mode": {
    "name": "ipython",
    "version": 3
   },
   "file_extension": ".py",
   "mimetype": "text/x-python",
   "name": "python",
   "nbconvert_exporter": "python",
   "pygments_lexer": "ipython3",
   "version": "3.6.10"
  }
 },
 "nbformat": 4,
 "nbformat_minor": 4
}
