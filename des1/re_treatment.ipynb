{
 "cells": [
  {
   "cell_type": "markdown",
   "metadata": {},
   "source": [
    "# Prototype"
   ]
  },
  {
   "cell_type": "code",
   "execution_count": 132,
   "metadata": {},
   "outputs": [],
   "source": [
    "import re\n",
    "import json"
   ]
  },
  {
   "cell_type": "code",
   "execution_count": 140,
   "metadata": {
    "scrolled": true
   },
   "outputs": [
    {
     "name": "stdout",
     "output_type": "stream",
     "text": [
      "[{'Name': 'Joker', 'Path': '/Mount/movies/Joker.mxf', 'Date': '10/03/2019', 'Size': '24.7 GB'}, {'Name': 'Parasite', 'Path': '/Mount/movies/Parasite.mxf', 'Date': '07/11/2019', 'Size': '35.4 GB'}, {'Name': 'Frozen', 'Path': '/Mount/movies/Frozen.mxf', 'Date': '27/11/2019', 'Size': '49.4 GB'}, {'Name': 'Star Wars', 'Path': '/Mount/movies/Star_wars.mxf', 'Date': '19/12/2019', 'Size': '31.1 GB'}, {'Name': 'Avengers: EndGame', 'Path': '/Mount/movies/EndGame.mxf', 'Date': '25/04/2019', 'Size': '139.6 GB'}, {'Name': '1917', 'Path': '/Mount/movies/1917.mxf', 'Date': '18/01/2020', 'Size': '63.4 GB'}, {'Name': 'Dumbo', 'Path': '/Mount/movies/Dumbo.mxf', 'Date': '28/03/2019', 'Size': '76.2 GB'}, {'Name': 'Ad Astra', 'Path': '/Mount/movies/AdAstra.mxf', 'Date': '26/09/2019', 'Size': '95.6 GB'}, {'Name': 'Glass', 'Path': '/Mount/movies/Glass.mxf', 'Date': '17/01/2019', 'Size': '46.2 GB'}, {'Name': 'Shazam', 'Path': '/Mount/movies/Shazam.mxf', 'Date': '04/04/2019', 'Size': '67.6 GB'}, {'Name': 'Us', 'Path': '/Mount/movies/Us.mxf', 'Date': '21/03/2019', 'Size': '71.9 GB'}, {'Name': 'Lego Movie', 'Path': '/Mount/movies/Lego_Movie.mxf', 'Date': '07/02/2019', 'Size': '93.4 GB'}]\n"
     ]
    }
   ],
   "source": [
    "data = []\n",
    "with open('planilha.txt', 'r') as f:\n",
    "    next(f)\n",
    "    for line in f:\n",
    "        match = re.search(r'([\\w\\s:.-]+)\\s+([\\d-]+)\\s+([\\S.]+)\\s+([\\D]+)\\s+([\\d]+)', line)\n",
    "              \n",
    "#         print(f'\\n\\nName: {match.group(1).lstrip().rstrip()} \\nDate: {match.group(2).replace(\"-\",\"/\").lstrip().rstrip()} \\nPath: {match.group(3).lstrip().rstrip()} \\nSize: {match.group(5).lstrip().rstrip()}')\n",
    "        \n",
    "        data.append({'Name': match.group(1).lstrip().rstrip(), 'Path': match.group(3).lstrip().rstrip(), 'Date': match.group(2).replace(\"-\",\"/\").lstrip().rstrip(), 'Size': str(round(int(match.group(5).lstrip().rstrip())/10**9,1))+' GB'})\n",
    "        \n",
    "print(data)"
   ]
  },
  {
   "cell_type": "code",
   "execution_count": 153,
   "metadata": {},
   "outputs": [],
   "source": [
    "with open('test_file.json', 'w+') as file:\n",
    "    json.dump(data, file, indent=4)"
   ]
  },
  {
   "cell_type": "code",
   "execution_count": 151,
   "metadata": {},
   "outputs": [
    {
     "name": "stdout",
     "output_type": "stream",
     "text": [
      "93.4 GB\n"
     ]
    }
   ],
   "source": [
    "with open('test_file.json', 'r') as j:\n",
    "    json_data = json.load(j)\n",
    "    print(json_data[11]['Size'])"
   ]
  },
  {
   "cell_type": "markdown",
   "metadata": {},
   "source": [
    "# Working function"
   ]
  },
  {
   "cell_type": "code",
   "execution_count": 156,
   "metadata": {},
   "outputs": [],
   "source": [
    "import re\n",
    "import json\n",
    "\n",
    "data = []\n",
    "\n",
    "with open('planilha.txt', 'r') as f:\n",
    "    \n",
    "    next(f)\n",
    "    for line in f:\n",
    "        \n",
    "        match = re.search(r'([\\w\\s:.-]+)\\s+([\\d-]+)\\s+([\\S.]+)\\s+([\\D]+)\\s+([\\d]+)', line)\n",
    "        data.append({'Name': match.group(1).lstrip().rstrip(), \n",
    "                     'Path': match.group(3).lstrip().rstrip(), \n",
    "                     'Date': match.group(2).replace(\"-\",\"/\").lstrip().rstrip(), \n",
    "                     'Size': str(round(int(match.group(5).lstrip().rstrip())/10**9,1))+' GB'}\n",
    "                   )\n",
    "        \n",
    "with open('movies.json', 'w+') as file:\n",
    "    json.dump(data, file, indent=4)"
   ]
  },
  {
   "cell_type": "code",
   "execution_count": null,
   "metadata": {},
   "outputs": [],
   "source": []
  }
 ],
 "metadata": {
  "kernelspec": {
   "display_name": "Python 3",
   "language": "python",
   "name": "python3"
  },
  "language_info": {
   "codemirror_mode": {
    "name": "ipython",
    "version": 3
   },
   "file_extension": ".py",
   "mimetype": "text/x-python",
   "name": "python",
   "nbconvert_exporter": "python",
   "pygments_lexer": "ipython3",
   "version": "3.6.10"
  }
 },
 "nbformat": 4,
 "nbformat_minor": 4
}
